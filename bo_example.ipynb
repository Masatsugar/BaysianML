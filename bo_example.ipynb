{
 "cells": [
  {
   "cell_type": "markdown",
   "metadata": {},
   "source": [
    "# Benchmark\n",
    "* sklearn search\n",
    "* Bayesian Optimaztion\n",
    "* nevergrad"
   ]
  },
  {
   "cell_type": "code",
   "execution_count": 1,
   "metadata": {},
   "outputs": [],
   "source": [
    "from sklearn import datasets\n",
    "from sklearn.model_selection import GridSearchCV, RandomizedSearchCV, cross_val_score\n",
    "from sklearn.pipeline import Pipeline\n",
    "from sklearn.preprocessing import StandardScaler\n",
    "from xgboost import XGBRegressor\n",
    "import numpy as np\n",
    "import matplotlib.pyplot as plt\n",
    "from time import time"
   ]
  },
  {
   "cell_type": "code",
   "execution_count": 2,
   "metadata": {},
   "outputs": [],
   "source": [
    "X, y = datasets.load_diabetes(return_X_y=True)"
   ]
  },
  {
   "cell_type": "code",
   "execution_count": 3,
   "metadata": {},
   "outputs": [],
   "source": [
    "xgb = XGBRegressor()"
   ]
  },
  {
   "cell_type": "code",
   "execution_count": 4,
   "metadata": {},
   "outputs": [
    {
     "name": "stdout",
     "output_type": "stream",
     "text": [
      "-3437.074407214106\n"
     ]
    }
   ],
   "source": [
    "scoring='neg_mean_squared_error'\n",
    "baseline = cross_val_score(xgb, X, y, scoring=scoring, cv=5)\n",
    "print(baseline.mean())"
   ]
  },
  {
   "cell_type": "code",
   "execution_count": 5,
   "metadata": {},
   "outputs": [
    {
     "name": "stdout",
     "output_type": "stream",
     "text": [
      "-3435.4432849413233\n"
     ]
    }
   ],
   "source": [
    "pipeline = Pipeline([('scaler', StandardScaler()), ('xgb', xgb)])\n",
    "baseline = cross_val_score(pipeline, X, y, scoring=scoring, cv=5)\n",
    "print(baseline.mean())"
   ]
  },
  {
   "cell_type": "markdown",
   "metadata": {},
   "source": [
    "## Randomized Search"
   ]
  },
  {
   "cell_type": "code",
   "execution_count": 6,
   "metadata": {
    "scrolled": true
   },
   "outputs": [
    {
     "name": "stdout",
     "output_type": "stream",
     "text": [
      "Randomized Search took 47.98 seconds , score = -2426.18\n",
      "{'xgb__n_estimators': 376, 'xgb__min_child_weight': 4, 'xgb__max_depth': 2, 'xgb__learning_rate': 0.01, 'xgb__gamma': 1}\n"
     ]
    },
    {
     "name": "stderr",
     "output_type": "stream",
     "text": [
      "/home/ubuntu/.conda/envs/machine_learning/lib/python3.6/site-packages/sklearn/model_selection/_search.py:841: DeprecationWarning: The default of the `iid` parameter will change from True to False in version 0.22 and will be removed in 0.24. This will change numeric results when test-set sizes are unequal.\n",
      "  DeprecationWarning)\n"
     ]
    }
   ],
   "source": [
    "param_dist = {\n",
    "    'xgb__gamma': range(0, 5),\n",
    "    'xgb__learning_rate': [0.01, 0.1],\n",
    "    'xgb__max_depth': range(1, 50),\n",
    "    'xgb__min_child_weight': range(1, 10),\n",
    "    'xgb__n_estimators': range(1, 500),\n",
    "}\n",
    "\n",
    "rs = RandomizedSearchCV(pipeline, param_distributions=param_dist, scoring=scoring, cv=5,  n_iter=30)\n",
    "start = time()\n",
    "rs.fit(X, y)\n",
    "print(\"Randomized Search took %.2f seconds , score = %3.2f\" % ((time()-start), rs.score(X, y)))\n",
    "print(rs.best_params_)"
   ]
  },
  {
   "cell_type": "markdown",
   "metadata": {},
   "source": [
    "### Grid Search"
   ]
  },
  {
   "cell_type": "code",
   "execution_count": 7,
   "metadata": {},
   "outputs": [
    {
     "name": "stdout",
     "output_type": "stream",
     "text": [
      "Grid Search took 74.47 seconds , score = -2541.31\n",
      "{'xgb__gamma': 1, 'xgb__learning_rate': 0.1, 'xgb__max_depth': 1, 'xgb__min_child_weight': 5, 'xgb__n_estimators': 100}\n"
     ]
    }
   ],
   "source": [
    "param_grid = {\n",
    "    'xgb__learning_rate': [0.01, 0.1],\n",
    "    'xgb__gamma': [1, 3, 5],\n",
    "    'xgb__max_depth': [1, 3, 10],\n",
    "    'xgb__min_child_weight': [1, 5],\n",
    "    'xgb__n_estimators': [50, 100, 500]\n",
    "}\n",
    "\n",
    "gs = GridSearchCV(pipeline, param_grid=param_grid, cv=5, scoring=scoring, iid=False)\n",
    "start = time()\n",
    "gs.fit(X, y)\n",
    "print(\"Grid Search took %.2f seconds , score = %3.2f\" % ((time()-start), gs.score(X, y)))\n",
    "print(gs.best_params_)"
   ]
  },
  {
   "cell_type": "code",
   "execution_count": 8,
   "metadata": {},
   "outputs": [
    {
     "name": "stdout",
     "output_type": "stream",
     "text": [
      "{'xgb__n_estimators': 376, 'xgb__min_child_weight': 4, 'xgb__max_depth': 2, 'xgb__learning_rate': 0.01, 'xgb__gamma': 1}\n",
      "-3241.9293023579453\n",
      "{'xgb__gamma': 1, 'xgb__learning_rate': 0.1, 'xgb__max_depth': 1, 'xgb__min_child_weight': 5, 'xgb__n_estimators': 100}\n",
      "-3193.2790685275772\n"
     ]
    }
   ],
   "source": [
    "print(rs.best_params_)\n",
    "print(rs.best_score_)\n",
    "print(gs.best_params_)\n",
    "print(gs.best_score_)"
   ]
  },
  {
   "cell_type": "markdown",
   "metadata": {},
   "source": [
    "## Bayesian Optimization"
   ]
  },
  {
   "cell_type": "code",
   "execution_count": 9,
   "metadata": {},
   "outputs": [],
   "source": [
    "import GPy\n",
    "import GPyOpt\n",
    "from GPyOpt.methods import BayesianOptimization"
   ]
  },
  {
   "cell_type": "code",
   "execution_count": 10,
   "metadata": {},
   "outputs": [],
   "source": [
    "bounds = [\n",
    "    {'name':'learning_rate', 'type':'continuous', 'domain': (0, 0.1)},\n",
    "    {'name':'gamma', 'type':'continuous', 'domain': (0, 5)},\n",
    "    {'name':'max_depth', 'type':'discrete', 'domain': (1, 50)},   \n",
    "    {'name':'n_estimators', 'type':'discrete', 'domain': (1, 1000)},\n",
    "    {'name':'min_child_weight', 'type':'discrete', 'domain': (1, 10)}\n",
    "]\n",
    "\n",
    "# obj function\n",
    "def cv_score(parameters):\n",
    "    parameters = parameters[0]\n",
    "    score = cross_val_score(\n",
    "        XGBRegressor(\n",
    "            learning_rate=parameters[0], \n",
    "            gamma=parameters[1],\n",
    "            max_depth=int(parameters[2]), \n",
    "            n_estimators=int(parameters[3]), \n",
    "            min_child_weight=int(parameters[4])),\n",
    "        X, y, scoring=\"neg_mean_squared_error\", cv=5).mean()\n",
    "    score = np.array(score)\n",
    "    return score"
   ]
  },
  {
   "cell_type": "code",
   "execution_count": 11,
   "metadata": {
    "scrolled": true
   },
   "outputs": [
    {
     "name": "stdout",
     "output_type": "stream",
     "text": [
      "BO took 65.08 seconds\n"
     ]
    }
   ],
   "source": [
    "optimizer = BayesianOptimization(f=cv_score, \n",
    "                                 domain=bounds, \n",
    "                                 model_type='GP', \n",
    "                                 acquisition_type='EI',\n",
    "                                 acquisition_jitter=0.05,\n",
    "                                 exact_feval=True, \n",
    "                                 maximize=True)\n",
    "\n",
    "start = time()\n",
    "optimizer.run_optimization(max_iter=30)\n",
    "print(\"BO took %.2f seconds\" % ((time()-start)))"
   ]
  },
  {
   "cell_type": "code",
   "execution_count": 12,
   "metadata": {},
   "outputs": [
    {
     "name": "stdout",
     "output_type": "stream",
     "text": [
      "Baseline neg. MSE = -3435.44\n",
      "Random search neg. MSE = -3241.93\n",
      "Grid search neg. MSE = -3193.28\n",
      "Bayesian optimization neg. MSE = -3218.64\n"
     ]
    },
    {
     "data": {
      "image/png": "[encoded data removed]",
      "text/plain": [
       "<Figure size 432x288 with 1 Axes>"
      ]
     },
     "metadata": {
      "needs_background": "light"
     },
     "output_type": "display_data"
    }
   ],
   "source": [
    "y_rs = np.maximum.accumulate(rs.cv_results_['mean_test_score'])\n",
    "y_gs = np.maximum.accumulate(gs.cv_results_['mean_test_score'])\n",
    "y_bo = np.maximum.accumulate(-optimizer.Y).ravel()\n",
    "\n",
    "print(f'Baseline neg. MSE = {baseline.mean():.2f}')\n",
    "print(f'Random search neg. MSE = {y_rs[-1]:.2f}')\n",
    "print(f'Grid search neg. MSE = {y_gs[-1]:.2f}')\n",
    "print(f'Bayesian optimization neg. MSE = {y_bo[-1]:.2f}')\n",
    "\n",
    "plt.plot(y_rs, 'ro-', label='Random search')\n",
    "plt.plot(y_bo, 'bo-', label='Bayesian optimization')\n",
    "\n",
    "plt.xlabel('Iteration')\n",
    "plt.ylabel('Neg. MSE')\n",
    "plt.ylim(-5000, -3000)\n",
    "plt.title('Value of the best sampled CV score');\n",
    "plt.legend();\n"
   ]
  },
  {
   "cell_type": "markdown",
   "metadata": {},
   "source": [
    "## Nevergrad\n",
    "### find global maximum in a function."
   ]
  },
  {
   "cell_type": "code",
   "execution_count": 13,
   "metadata": {},
   "outputs": [
    {
     "data": {
      "image/png": "[encoded data removed]",
      "text/plain": [
       "<Figure size 432x288 with 1 Axes>"
      ]
     },
     "metadata": {
      "needs_background": "light"
     },
     "output_type": "display_data"
    }
   ],
   "source": [
    "def f(x):\n",
    "    return np.exp(-(x-2)**2) + np.exp(-(x-6)**2 / 10) + 1/(x**2 + 1)\n",
    "\n",
    "x = np.linspace(-6, 15, 100)\n",
    "plt.plot(x, f(x))\n",
    "plt.show()"
   ]
  },
  {
   "cell_type": "code",
   "execution_count": 14,
   "metadata": {},
   "outputs": [
    {
     "name": "stdout",
     "output_type": "stream",
     "text": [
      "Candidate(args=(array([2.01831647]),), kwargs={})\n"
     ]
    }
   ],
   "source": [
    "from nevergrad.optimization import optimizerlib, registry\n",
    "\n",
    "optimizer = optimizerlib.OnePointDE(instrumentation=1, budget=100, num_workers=4)\n",
    "g = lambda x: -f(x)[0]\n",
    "\n",
    "for _ in range(optimizer.budget):\n",
    "    x = optimizer.ask()\n",
    "    value = g(*x.args, **x.kwargs)\n",
    "    optimizer.tell(x, value)\n",
    "\n",
    "recommendation = optimizer.provide_recommendation()\n",
    "print(recommendation)"
   ]
  },
  {
   "cell_type": "markdown",
   "metadata": {},
   "source": [
    "### Search optimal hyperparameters"
   ]
  },
  {
   "cell_type": "code",
   "execution_count": 15,
   "metadata": {},
   "outputs": [],
   "source": [
    "from nevergrad import instrumentation as inst\n",
    "\n",
    "# log distributed between 0.001 and 1\n",
    "lr = inst.var.Array(1).bounded(0, 3).exponentiated(base=10, coeff=-1)\n",
    "gamma = inst.var.Array(1).bounded(0, 3)\n",
    "max_depth = inst.var.OrderedDiscrete(range(1, 50))\n",
    "n_est = inst.var.OrderedDiscrete(range(1, 1000))\n",
    "min_childe = inst.var.OrderedDiscrete(range(1, 50))\n",
    "\n",
    "instrumentation = inst.Instrumentation(lr, gamma, max_depth, n_est, min_childe)"
   ]
  },
  {
   "cell_type": "code",
   "execution_count": 16,
   "metadata": {},
   "outputs": [
    {
     "name": "stdout",
     "output_type": "stream",
     "text": [
      "(array([0.03162278]), array([1.5]), 25, 500, 25) {}\n"
     ]
    }
   ],
   "source": [
    "args, kwargs = instrumentation.data_to_arguments([0] * instrumentation.dimension)\n",
    "print(args, kwargs)"
   ]
  },
  {
   "cell_type": "code",
   "execution_count": 17,
   "metadata": {},
   "outputs": [],
   "source": [
    "def cv_score2(*args):\n",
    "    lr, gamma, max_depth, n_est, min_child = args\n",
    "    score = cross_val_score(\n",
    "        XGBRegressor(\n",
    "            learning_rate=lr[0], \n",
    "            gamma=gamma[0],\n",
    "            max_depth=int(max_depth), \n",
    "            n_estimators=int(n_est), \n",
    "            min_child_weight=int(min_child)),\n",
    "        X, y, scoring=scoring, cv=5).mean()\n",
    "    #score = np.array(score)\n",
    "    #print(args, -score)\n",
    "    return -score"
   ]
  },
  {
   "cell_type": "code",
   "execution_count": 18,
   "metadata": {},
   "outputs": [
    {
     "name": "stdout",
     "output_type": "stream",
     "text": [
      "RandomSearch\n",
      "time 52.64 sec\n",
      "(array([0.00406691]), array([1.67252583]), 37, 789, 25) 3284.531080051654\n",
      "TwoPointsDE\n",
      "time 47.62 sec\n",
      "(array([0.00934696]), array([0.50244636]), 3, 873, 24) 3338.467461158683\n",
      "FastGADiscreteOnePlusOne\n",
      "time 35.08 sec\n",
      "(array([0.0268823]), array([1.40328995]), 10, 151, 31) 3196.4254802341043\n",
      "PSO\n",
      "time 56.56 sec\n",
      "(array([0.01249232]), array([0.01716584]), 1, 612, 24) 3161.583118296926\n"
     ]
    }
   ],
   "source": [
    "budget = 30\n",
    "names = [\"RandomSearch\", \"TwoPointsDE\", \"FastGADiscreteOnePlusOne\", \"PSO\"]\n",
    "\n",
    "for name in names:\n",
    "    print(name)\n",
    "    start = time()\n",
    "    optimizer = optimizerlib.registry[name](instrumentation, budget=budget, num_workers=10)\n",
    "    for _ in range(optimizer.budget // 3):\n",
    "        x1 = optimizer.ask()\n",
    "        x2 = optimizer.ask()\n",
    "        x3 = optimizer.ask()\n",
    "        y1 = cv_score2(*x1.args)\n",
    "        y2 = cv_score2(*x2.args)\n",
    "        y3 = cv_score2(*x3.args)\n",
    "        optimizer.tell(x1, y1)\n",
    "        optimizer.tell(x2, y2)\n",
    "        optimizer.tell(x3, y3)\n",
    "    \n",
    "    recommendation = optimizer.provide_recommendation()\n",
    "    print(\"time %.2f sec\" % ((time()-start)))        \n",
    "    print(\"name\", name, \"arg\", recommendation.args, \"score=\", cv_score2(*recommendation.args))"
   ]
  },
  {
   "cell_type": "code",
   "execution_count": 20,
   "metadata": {},
   "outputs": [
    {
     "name": "stdout",
     "output_type": "stream",
     "text": [
      "['ASCMA2PDEthird', 'ASCMADEQRthird', 'ASCMADEthird', 'AlmostRotationInvariantDE', 'AlmostRotationInvariantDEAndBigPop', 'BO', 'BPRotationInvariantDE', 'CM', 'CMA', 'CMandAS', 'CMandAS2', 'CauchyLHSSearch', 'CauchyOnePlusOne', 'CauchyRandomSearch', 'CauchyScrHammersleySearch', 'Cobyla', 'DE', 'DiagonalCMA', 'DiscreteOnePlusOne', 'DoubleFastGADiscreteOnePlusOne', 'DoubleFastGAOptimisticNoisyDiscreteOnePlusOne', 'EDA', 'FastGADiscreteOnePlusOne', 'FastGANoisyDiscreteOnePlusOne', 'FastGAOptimisticNoisyDiscreteOnePlusOne', 'HaltonSearch', 'HaltonSearchPlusMiddlePoint', 'HammersleySearch', 'HammersleySearchPlusMiddlePoint', 'LBO', 'LHSSearch', 'LargeHaltonSearch', 'LargeHaltonSearchPlusMiddlePoint', 'LargeHammersleySearch', 'LargeHammersleySearchPlusMiddlePoint', 'LargeScrHaltonSearch', 'LargeScrHaltonSearchPlusMiddlePoint', 'LargeScrHammersleySearch', 'LargeScrHammersleySearchPlusMiddlePoint', 'LargerScaleRandomSearchPlusMiddlePoint', 'LhsDE', 'MEDA', 'MPCEDA', 'MicroCMA', 'MidQRBO', 'MilliCMA', 'MiniDE', 'MiniLhsDE', 'MiniQrDE', 'MultiCMA', 'MultiScaleCMA', 'NaiveTBPSA', 'NelderMead', 'NoisyBandit', 'NoisyDE', 'NoisyDiscreteOnePlusOne', 'NoisyOnePlusOne', 'OnePlusOne', 'OnePointDE', 'OptimisticDiscreteOnePlusOne', 'OptimisticNoisyOnePlusOne', 'PCEDA', 'PSO', 'ParaPortfolio', 'ParaSQPCMA', 'Portfolio', 'PortfolioDiscreteOnePlusOne', 'PortfolioNoisyDiscreteOnePlusOne', 'PortfolioOptimisticNoisyDiscreteOnePlusOne', 'Powell', 'QRBO', 'QrDE', 'RBO', 'RCobyla', 'RPowell', 'RSQP', 'RandomScaleRandomSearch', 'RandomScaleRandomSearchPlusMiddlePoint', 'RandomSearch', 'RandomSearchPlusMiddlePoint', 'RecombiningOptimisticNoisyDiscreteOnePlusOne', 'RecombiningPortfolioOptimisticNoisyDiscreteOnePlusOne', 'RescaleScrHammersleySearch', 'RotationInvariantDE', 'SPSA', 'SQP', 'ScrHaltonSearch', 'ScrHaltonSearchPlusMiddlePoint', 'ScrHammersleySearch', 'ScrHammersleySearchPlusMiddlePoint', 'SmallHaltonSearchPlusMiddlePoint', 'SmallHammersleySearchPlusMiddlePoint', 'SmallScaleRandomSearchPlusMiddlePoint', 'SmallScrHaltonSearchPlusMiddlePoint', 'SmallScrHammersleySearchPlusMiddlePoint', 'StupidRandom', 'TBPSA', 'TripleCMA', 'TwoPointsDE', 'Zero']\n"
     ]
    }
   ],
   "source": [
    "from nevergrad.optimization import registry\n",
    "print(sorted(registry.keys()))"
   ]
  }
 ],
 "metadata": {
  "kernelspec": {
   "display_name": "Environment (rl)",
   "language": "python",
   "name": "machine_learning"
  },
  "language_info": {
   "codemirror_mode": {
    "name": "ipython",
    "version": 3
   },
   "file_extension": ".py",
   "mimetype": "text/x-python",
   "name": "python",
   "nbconvert_exporter": "python",
   "pygments_lexer": "ipython3",
   "version": "3.6.8"
  }
 },
 "nbformat": 4,
 "nbformat_minor": 2
}
